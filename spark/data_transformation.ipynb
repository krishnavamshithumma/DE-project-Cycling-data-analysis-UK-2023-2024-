{
 "cells": [
  {
   "cell_type": "code",
   "execution_count": 2,
   "id": "cc1d5988-a185-413c-890b-39c637d7efaa",
   "metadata": {},
   "outputs": [],
   "source": [
    "import pyspark\n",
    "from pyspark.sql import SparkSession\n",
    "from pyspark.conf import SparkConf\n",
    "from pyspark.context import SparkContext"
   ]
  },
  {
   "cell_type": "code",
   "execution_count": 3,
   "id": "b72142da-43c4-4746-b489-103604ce267d",
   "metadata": {},
   "outputs": [],
   "source": [
    "credentials_location = '/home/vamsi/Desktop/data-engg/Yelp_project/terraform/keys/mycreds.json'\n",
    "\n",
    "conf = SparkConf() \\\n",
    "    .setMaster('local[*]') \\\n",
    "    .setAppName('test') \\\n",
    "    .set(\"spark.jars\", \"./lib/gcs-connector-hadoop3-2.2.5.jar\") \\\n",
    "    .set(\"spark.hadoop.google.cloud.auth.service.account.enable\", \"true\") \\\n",
    "    .set(\"spark.hadoop.google.cloud.auth.service.account.json.keyfile\", credentials_location)"
   ]
  },
  {
   "cell_type": "code",
   "execution_count": 4,
   "id": "834882db-df87-436c-9439-67d9ceee2d63",
   "metadata": {},
   "outputs": [
    {
     "name": "stderr",
     "output_type": "stream",
     "text": [
      "25/02/19 12:22:22 WARN NativeCodeLoader: Unable to load native-hadoop library for your platform... using builtin-java classes where applicable\n",
      "Setting default log level to \"WARN\".\n",
      "To adjust logging level use sc.setLogLevel(newLevel). For SparkR, use setLogLevel(newLevel).\n"
     ]
    }
   ],
   "source": [
    "sc = SparkContext(conf=conf)\n",
    "\n",
    "hadoop_conf = sc._jsc.hadoopConfiguration()\n",
    "\n",
    "hadoop_conf.set(\"fs.AbstractFileSystem.gs.impl\",  \"com.google.cloud.hadoop.fs.gcs.GoogleHadoopFS\")\n",
    "hadoop_conf.set(\"fs.gs.impl\", \"com.google.cloud.hadoop.fs.gcs.GoogleHadoopFileSystem\")\n",
    "hadoop_conf.set(\"fs.gs.auth.service.account.json.keyfile\", credentials_location)\n",
    "hadoop_conf.set(\"fs.gs.auth.service.account.enable\", \"true\")"
   ]
  },
  {
   "cell_type": "code",
   "execution_count": 5,
   "id": "acba0bf0-7d13-4af8-8f59-ede8e7f2a52e",
   "metadata": {},
   "outputs": [],
   "source": [
    "spark = SparkSession.builder \\\n",
    "    .config(conf=sc.getConf()) \\\n",
    "    .getOrCreate()"
   ]
  },
  {
   "cell_type": "code",
   "execution_count": 6,
   "id": "22b0ac5f-7d8e-439f-98d1-17fa0933ba07",
   "metadata": {},
   "outputs": [],
   "source": [
    "from pyspark.sql import types"
   ]
  },
  {
   "cell_type": "code",
   "execution_count": 7,
   "id": "c9a62a3b-55a6-4223-9451-ce3bd15acd7b",
   "metadata": {},
   "outputs": [],
   "source": [
    "schema = types.StructType([\n",
    "    types.StructField('Wave', types.StringType(), True), \n",
    "    types.StructField('SiteID', types.StringType(), True), \n",
    "    types.StructField('Date', types.StringType(), True), \n",
    "    types.StructField('Weather', types.StringType(), True), \n",
    "    types.StructField('Time', types.StringType(), True), \n",
    "    types.StructField('Day', types.StringType(), True), \n",
    "    types.StructField('Round', types.StringType(), True), \n",
    "    types.StructField('Direction', types.StringType(), True), \n",
    "    types.StructField('Path', types.StringType(), True), \n",
    "    types.StructField('Mode', types.StringType(), True), \n",
    "    types.StructField('Count', types.LongType(), True)\n",
    "])"
   ]
  },
  {
   "cell_type": "code",
   "execution_count": 8,
   "id": "9683853c-bbf5-464d-a9fc-b4147211b508",
   "metadata": {},
   "outputs": [],
   "source": [
    "df_2023 = spark.read.csv('gs://yelp-de-project-451206-bucket/cyclingdata_2023/*', header=True, schema=schema)"
   ]
  },
  {
   "cell_type": "code",
   "execution_count": 11,
   "id": "0e375635-d1ee-43d9-83d6-64463cd6b0f5",
   "metadata": {},
   "outputs": [],
   "source": [
    "from pyspark.sql import functions as F"
   ]
  },
  {
   "cell_type": "code",
   "execution_count": 12,
   "id": "64c8efbc-ab33-49fd-ae27-53edad9abf2d",
   "metadata": {},
   "outputs": [],
   "source": [
    "df_2023 = df_2023.withColumn('Year', F.lit('2023'))"
   ]
  },
  {
   "cell_type": "code",
   "execution_count": 9,
   "id": "9798b815-05a5-4bdb-bb8e-56b3fcfde41a",
   "metadata": {},
   "outputs": [],
   "source": [
    "df_2024 = spark.read.csv('gs://yelp-de-project-451206-bucket/cyclingdata_2024/*', header=True, schema=schema)"
   ]
  },
  {
   "cell_type": "code",
   "execution_count": 14,
   "id": "e952347a-e779-4d8c-8050-d703543505fc",
   "metadata": {},
   "outputs": [],
   "source": [
    "df_2024 = df_2024.withColumn('Year', F.lit('2024'))"
   ]
  },
  {
   "cell_type": "code",
   "execution_count": 15,
   "id": "1f49953b-c95d-40a9-a4c2-21b05e5aa9dd",
   "metadata": {},
   "outputs": [
    {
     "name": "stderr",
     "output_type": "stream",
     "text": [
      "[Stage 2:>                                                          (0 + 1) / 1]\r"
     ]
    },
    {
     "name": "stdout",
     "output_type": "stream",
     "text": [
      "+--------------+------+----------+-------+--------+-------+-----+----------+-----------+-----------+-----+----+\n",
      "|          Wave|SiteID|      Date|Weather|    Time|    Day|Round| Direction|       Path|       Mode|Count|Year|\n",
      "+--------------+------+----------+-------+--------+-------+-----+----------+-----------+-----------+-----+----+\n",
      "|2024 W1 spring|ML0001|16/07/2024|    Dry|06:00:00|Weekday|    A|Northbound|Carriageway|Cargo bikes|    0|2024|\n",
      "|2024 W1 spring|ML0001|16/07/2024|    Dry|06:15:00|Weekday|    A|Northbound|Carriageway|Cargo bikes|    0|2024|\n",
      "|2024 W1 spring|ML0001|16/07/2024|    Dry|06:30:00|Weekday|    A|Northbound|Carriageway|Cargo bikes|    0|2024|\n",
      "|2024 W1 spring|ML0001|16/07/2024|    Dry|06:45:00|Weekday|    A|Northbound|Carriageway|Cargo bikes|    0|2024|\n",
      "|2024 W1 spring|ML0001|16/07/2024|    Dry|07:00:00|Weekday|    A|Northbound|Carriageway|Cargo bikes|    0|2024|\n",
      "|2024 W1 spring|ML0001|16/07/2024|    Dry|07:15:00|Weekday|    A|Northbound|Carriageway|Cargo bikes|    0|2024|\n",
      "|2024 W1 spring|ML0001|16/07/2024|    Dry|07:30:00|Weekday|    A|Northbound|Carriageway|Cargo bikes|    0|2024|\n",
      "|2024 W1 spring|ML0001|16/07/2024|    Dry|07:45:00|Weekday|    A|Northbound|Carriageway|Cargo bikes|    0|2024|\n",
      "|2024 W1 spring|ML0001|16/07/2024|    Dry|08:00:00|Weekday|    A|Northbound|Carriageway|Cargo bikes|    0|2024|\n",
      "|2024 W1 spring|ML0001|16/07/2024|    Dry|08:15:00|Weekday|    A|Northbound|Carriageway|Cargo bikes|    0|2024|\n",
      "|2024 W1 spring|ML0001|16/07/2024|    Dry|08:30:00|Weekday|    A|Northbound|Carriageway|Cargo bikes|    0|2024|\n",
      "|2024 W1 spring|ML0001|16/07/2024|    Dry|08:45:00|Weekday|    A|Northbound|Carriageway|Cargo bikes|    0|2024|\n",
      "|2024 W1 spring|ML0001|16/07/2024|    Dry|09:00:00|Weekday|    A|Northbound|Carriageway|Cargo bikes|    0|2024|\n",
      "|2024 W1 spring|ML0001|16/07/2024|    Dry|09:15:00|Weekday|    A|Northbound|Carriageway|Cargo bikes|    0|2024|\n",
      "|2024 W1 spring|ML0001|16/07/2024|    Dry|09:30:00|Weekday|    A|Northbound|Carriageway|Cargo bikes|    0|2024|\n",
      "|2024 W1 spring|ML0001|16/07/2024|    Dry|09:45:00|Weekday|    A|Northbound|Carriageway|Cargo bikes|    0|2024|\n",
      "|2024 W1 spring|ML0001|16/07/2024|    Dry|10:00:00|Weekday|    A|Northbound|Carriageway|Cargo bikes|    0|2024|\n",
      "|2024 W1 spring|ML0001|16/07/2024|    Dry|10:15:00|Weekday|    A|Northbound|Carriageway|Cargo bikes|    0|2024|\n",
      "|2024 W1 spring|ML0001|16/07/2024|    Dry|10:30:00|Weekday|    A|Northbound|Carriageway|Cargo bikes|    0|2024|\n",
      "|2024 W1 spring|ML0001|16/07/2024|    Dry|10:45:00|Weekday|    A|Northbound|Carriageway|Cargo bikes|    0|2024|\n",
      "+--------------+------+----------+-------+--------+-------+-----+----------+-----------+-----------+-----+----+\n",
      "only showing top 20 rows\n",
      "\n"
     ]
    },
    {
     "name": "stderr",
     "output_type": "stream",
     "text": [
      "                                                                                \r"
     ]
    }
   ],
   "source": [
    "df_2024.show()"
   ]
  },
  {
   "cell_type": "code",
   "execution_count": 17,
   "id": "574bb5d2-0af2-4b81-bf98-9ad8c36994c0",
   "metadata": {},
   "outputs": [],
   "source": [
    "df_all = df_2023.unionAll(df_2024)"
   ]
  },
  {
   "cell_type": "code",
   "execution_count": 20,
   "id": "a90f96f4-139a-49e0-80d9-1c0d131a8856",
   "metadata": {},
   "outputs": [
    {
     "name": "stderr",
     "output_type": "stream",
     "text": [
      "                                                                                \r"
     ]
    },
    {
     "data": {
      "text/plain": [
       "4705344"
      ]
     },
     "execution_count": 20,
     "metadata": {},
     "output_type": "execute_result"
    }
   ],
   "source": [
    "df_all.count()"
   ]
  },
  {
   "cell_type": "code",
   "execution_count": 21,
   "id": "ddc57363-d03e-4891-ac2f-d1c827cd1636",
   "metadata": {},
   "outputs": [],
   "source": [
    "df_all.createOrReplaceTempView(\"cycling_data\")"
   ]
  },
  {
   "cell_type": "code",
   "execution_count": 22,
   "id": "af1f6303-fe0a-4b27-902d-ddb2e5966787",
   "metadata": {},
   "outputs": [],
   "source": [
    "df_result = spark.sql('''\n",
    "SELECT\n",
    "    Year,\n",
    "    SiteID,\n",
    "    Weather,\n",
    "    Direction,\n",
    "    Path,\n",
    "    Mode,\n",
    "    SUM(Count) AS Total_Count,  -- Total traffic count\n",
    "    AVG(Count) AS Avg_Count,    -- Average traffic count per record\n",
    "    MAX(Count) AS Max_Count,    -- Maximum traffic count recorded\n",
    "    MIN(Count) AS Min_Count     -- Minimum traffic count recorded\n",
    "FROM cycling_data\n",
    "GROUP BY Year, SiteID, Weather, Direction, Path, Mode\n",
    "ORDER BY Year, SiteID\n",
    "''')"
   ]
  },
  {
   "cell_type": "code",
   "execution_count": 23,
   "id": "108df66d-4257-4add-8077-3d021f0f248d",
   "metadata": {},
   "outputs": [
    {
     "name": "stderr",
     "output_type": "stream",
     "text": [
      "[Stage 9:>                                                          (0 + 4) / 4]\r"
     ]
    },
    {
     "name": "stdout",
     "output_type": "stream",
     "text": [
      "+----+------+-------+----------+--------------------+-------------------+-----------+---------+---------+---------+\n",
      "|Year|SiteID|Weather| Direction|                Path|               Mode|Total_Count|Avg_Count|Max_Count|Min_Count|\n",
      "+----+------+-------+----------+--------------------+-------------------+-----------+---------+---------+---------+\n",
      "|2023|ML0001|    Dry|Southbound|Cycle lane - Sout...|        Pedestrians|          2|  0.03125|        1|        0|\n",
      "|2023|ML0001|    Dry|Southbound|Pavement - Southb...|        Pedestrians|       1333|20.828125|       51|        2|\n",
      "|2023|ML0001|    Dry|Southbound|Cycle lane - Sout...|         E-scooters|         21| 0.328125|        3|        0|\n",
      "|2023|ML0001|    Dry|Southbound|Cycle lane - Nort...|        Cargo bikes|          0|      0.0|        0|        0|\n",
      "|2023|ML0001|    Dry|Southbound|         Carriageway|         E-scooters|          1| 0.015625|        1|        0|\n",
      "|2023|ML0001|    Dry|Northbound|Pavement - Southb...|Conventional cycles|          5| 0.078125|        2|        0|\n",
      "|2023|ML0001|    Dry|Southbound|Pavement - Southb...|        Cargo bikes|          0|      0.0|        0|        0|\n",
      "|2023|ML0001|    Dry|Southbound|         Carriageway|Conventional cycles|        361| 5.640625|       58|        0|\n",
      "|2023|ML0001|    Dry|Northbound|Pavement - Northb...|        Pedestrians|       1619|25.296875|       86|        1|\n",
      "|2023|ML0001|    Dry|Southbound|Pavement - Northb...|        Cargo bikes|          0|      0.0|        0|        0|\n",
      "|2023|ML0001|    Dry|Southbound|Cycle lane - Sout...|        Cargo bikes|         15| 0.234375|        2|        0|\n",
      "|2023|ML0001|    Dry|Northbound|Cycle lane - Nort...|Conventional cycles|       3128|   48.875|      247|        8|\n",
      "|2023|ML0001|    Dry|Northbound|Cycle lane - Sout...|Conventional cycles|          0|      0.0|        0|        0|\n",
      "|2023|ML0001|    Dry|Southbound|Pavement - Northb...|        Pedestrians|       1441|22.515625|       73|        1|\n",
      "|2023|ML0001|    Dry|Southbound|Cycle lane - Nort...|        Pedestrians|          0|      0.0|        0|        0|\n",
      "|2023|ML0001|    Dry|Northbound|Pavement - Southb...|         E-scooters|          2|  0.03125|        1|        0|\n",
      "|2023|ML0001|    Dry|Northbound|         Carriageway|Conventional cycles|        163| 2.546875|       29|        0|\n",
      "|2023|ML0001|    Dry|Northbound|Cycle lane - Nort...|        Cargo bikes|         15| 0.234375|        2|        0|\n",
      "|2023|ML0001|    Dry|Northbound|Pavement - Northb...|         E-scooters|          1| 0.015625|        1|        0|\n",
      "|2023|ML0001|    Dry|Southbound|Cycle lane - Sout...|Conventional cycles|       3412|  53.3125|      213|        3|\n",
      "+----+------+-------+----------+--------------------+-------------------+-----------+---------+---------+---------+\n",
      "only showing top 20 rows\n",
      "\n"
     ]
    },
    {
     "name": "stderr",
     "output_type": "stream",
     "text": [
      "                                                                                \r"
     ]
    }
   ],
   "source": [
    "df_result.show()"
   ]
  },
  {
   "cell_type": "code",
   "execution_count": null,
   "id": "b455e53b-2364-4c97-a333-3a6731c463ee",
   "metadata": {},
   "outputs": [],
   "source": []
  }
 ],
 "metadata": {
  "kernelspec": {
   "display_name": "Python 3 (ipykernel)",
   "language": "python",
   "name": "python3"
  },
  "language_info": {
   "codemirror_mode": {
    "name": "ipython",
    "version": 3
   },
   "file_extension": ".py",
   "mimetype": "text/x-python",
   "name": "python",
   "nbconvert_exporter": "python",
   "pygments_lexer": "ipython3",
   "version": "3.12.7"
  }
 },
 "nbformat": 4,
 "nbformat_minor": 5
}
